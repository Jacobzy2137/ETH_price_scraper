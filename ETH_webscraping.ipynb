{
  "nbformat": 4,
  "nbformat_minor": 0,
  "metadata": {
    "colab": {
      "provenance": []
    },
    "kernelspec": {
      "name": "python3",
      "display_name": "Python 3"
    },
    "language_info": {
      "name": "python"
    }
  },
  "cells": [
    {
      "cell_type": "code",
      "execution_count": 51,
      "metadata": {
        "id": "aSn-aWANfwGS"
      },
      "outputs": [],
      "source": [
        "from bs4 import BeautifulSoup\n",
        "import requests\n",
        "import smtplib\n",
        "import time\n",
        "from datetime import datetime"
      ]
    },
    {
      "cell_type": "code",
      "source": [
        "#pulling data\n",
        "\n",
        "URL = 'https://coinmarketcap.com/currencies/ethereum/'\n",
        "headers = {\"User-Agent\": \"Mozilla/5.0 (Windows NT 10.0; Win64; x64) AppleWebKit/537.36 (KHTML, like Gecko) Chrome/108.0.0.0 Safari/537.36\"}\n",
        "page = requests.get(URL, headers=headers)\n",
        "soup = BeautifulSoup(page.content, \"html.parser\")\n",
        "price = soup.find('div', {'class':'priceValue'}).get_text()\n",
        "currency = soup.find('h2', {'class':'sc-aba8b85a-0 gmYubB h1'}).get_text()\n",
        "change = soup.find('span', {'class':'sc-97d6d2ca-0 bIyrLx'}).get_text()\n",
        "now = datetime.now()\n",
        "scrape_time = now.strftime(\"%d/%m/%Y %H:%M:%S\")\n",
        "\n",
        "\n",
        "print(price)\n",
        "print(currency)\n",
        "print(change)\n",
        "print(scrape_time)"
      ],
      "metadata": {
        "colab": {
          "base_uri": "https://localhost:8080/"
        },
        "id": "YGE_F-Z6hXUN",
        "outputId": "680e40e6-e277-48b0-fa9f-2e688c3a9aea"
      },
      "execution_count": 52,
      "outputs": [
        {
          "output_type": "stream",
          "name": "stdout",
          "text": [
            "$1,209.70\n",
            "EthereumETH\n",
            "0.63%\n",
            "27/12/2022 15:09:49\n"
          ]
        }
      ]
    },
    {
      "cell_type": "code",
      "source": [],
      "metadata": {
        "id": "aZ640WnmejLH"
      },
      "execution_count": null,
      "outputs": []
    },
    {
      "cell_type": "code",
      "source": [
        "#cleaning data a bit\n",
        "price = price.strip()[1:]\n",
        "currency = currency.strip()[1:]\n",
        "ticker = \"\"\n",
        "for char in currency:\n",
        "  if char.isupper() == True:\n",
        "    ticker += char\n",
        "change = change.rstrip(change[-1])\n",
        "\n",
        "print(ticker)\n",
        "print(price)\n",
        "print(change)\n",
        "print(scrape_time)"
      ],
      "metadata": {
        "colab": {
          "base_uri": "https://localhost:8080/"
        },
        "id": "ETRqTijm9Olp",
        "outputId": "1f8af420-6bb2-47f2-a5e5-eb54c591f2e8"
      },
      "execution_count": 53,
      "outputs": [
        {
          "output_type": "stream",
          "name": "stdout",
          "text": [
            "ETH\n",
            "1,209.70\n",
            "0.63\n",
            "27/12/2022 15:09:49\n"
          ]
        }
      ]
    },
    {
      "cell_type": "code",
      "source": [
        "#creating csv file |run only once| running again will delete data\n",
        "import csv\n",
        "\n",
        "header = ['Time', 'Ticker', 'Price', 'Change']\n",
        "data = [scrape_time, ticker, price, change]\n",
        "\n",
        "with open('ETH_tracker.csv', 'w', newline='', encoding='UTF8') as f:\n",
        "  writer = csv.writer(f)\n",
        "  writer.writerow(header)\n",
        "  writer.writerow(data)\n"
      ],
      "metadata": {
        "id": "ipYAnZC89f_O"
      },
      "execution_count": 54,
      "outputs": []
    },
    {
      "cell_type": "code",
      "source": [
        "import pandas as pd\n",
        "\n",
        "df = pd.read_csv(r'ETH_tracker.csv')\n",
        "print(df)"
      ],
      "metadata": {
        "colab": {
          "base_uri": "https://localhost:8080/"
        },
        "id": "U_iLlLZlDQ_F",
        "outputId": "0a804924-0bd7-4a04-c672-2841462b67dd"
      },
      "execution_count": 55,
      "outputs": [
        {
          "output_type": "stream",
          "name": "stdout",
          "text": [
            "                  Time Ticker     Price  Change\n",
            "0  27/12/2022 15:09:49    ETH  1,209.70    0.63\n"
          ]
        }
      ]
    },
    {
      "cell_type": "code",
      "source": [
        "def pull_data():\n",
        "  #pulling\n",
        "  URL = 'https://coinmarketcap.com/currencies/ethereum/'\n",
        "  headers = {\"User-Agent\": \"Mozilla/5.0 (Windows NT 10.0; Win64; x64) AppleWebKit/537.36 (KHTML, like Gecko) Chrome/108.0.0.0 Safari/537.36\"}\n",
        "  page = requests.get(URL, headers=headers)\n",
        "  soup = BeautifulSoup(page.content, \"html.parser\")\n",
        "  price = soup.find('div', {'class':'priceValue'}).get_text()\n",
        "  currency = soup.find('h2', {'class':'sc-aba8b85a-0 gmYubB h1'}).get_text()\n",
        "  change = soup.find('span', {'class':'sc-97d6d2ca-0 bIyrLx'}).get_text()\n",
        "  from datetime import datetime\n",
        "  now = datetime.now()\n",
        "  scrape_time = now.strftime(\"%d/%m/%Y %H:%M:%S\")\n",
        "\n",
        "  #cleaning  \n",
        "  price = price.strip()[1:]\n",
        "  currency = currency.strip()[1:]\n",
        "  ticker = \"\"\n",
        "  for char in currency:\n",
        "    if char.isupper() == True:\n",
        "      ticker += char\n",
        "  change = change.rstrip(change[-1])\n",
        "\n",
        "  #appending\n",
        "\n",
        "  import csv\n",
        "  header = ['Time', 'Ticker', 'Price', 'Change']\n",
        "  data = [scrape_time, ticker, price, change]\n",
        "\n",
        "  with open('ETH_tracker.csv', 'a+', newline='', encoding='UTF8') as f:\n",
        "    writer = csv.writer(f)\n",
        "    writer.writerow(data)"
      ],
      "metadata": {
        "id": "WjX1z1-tFWI5"
      },
      "execution_count": 58,
      "outputs": []
    },
    {
      "cell_type": "code",
      "source": [
        "while(True):\n",
        "  pull_data()\n",
        "  time.sleep(300)"
      ],
      "metadata": {
        "colab": {
          "base_uri": "https://localhost:8080/",
          "height": 200
        },
        "id": "c0Bnx_rtIX47",
        "outputId": "9b497b6c-cc7d-456e-ecc9-f9e835f2788e"
      },
      "execution_count": 63,
      "outputs": [
        {
          "output_type": "error",
          "ename": "KeyboardInterrupt",
          "evalue": "ignored",
          "traceback": [
            "\u001b[0;31m---------------------------------------------------------------------------\u001b[0m",
            "\u001b[0;31mKeyboardInterrupt\u001b[0m                         Traceback (most recent call last)",
            "\u001b[0;32m<ipython-input-63-9a68b38f7055>\u001b[0m in \u001b[0;36m<module>\u001b[0;34m\u001b[0m\n\u001b[1;32m      1\u001b[0m \u001b[0;32mwhile\u001b[0m\u001b[0;34m(\u001b[0m\u001b[0;32mTrue\u001b[0m\u001b[0;34m)\u001b[0m\u001b[0;34m:\u001b[0m\u001b[0;34m\u001b[0m\u001b[0;34m\u001b[0m\u001b[0m\n\u001b[1;32m      2\u001b[0m   \u001b[0mpull_data\u001b[0m\u001b[0;34m(\u001b[0m\u001b[0;34m)\u001b[0m\u001b[0;34m\u001b[0m\u001b[0;34m\u001b[0m\u001b[0m\n\u001b[0;32m----> 3\u001b[0;31m   \u001b[0mtime\u001b[0m\u001b[0;34m.\u001b[0m\u001b[0msleep\u001b[0m\u001b[0;34m(\u001b[0m\u001b[0;36m300\u001b[0m\u001b[0;34m)\u001b[0m\u001b[0;34m\u001b[0m\u001b[0;34m\u001b[0m\u001b[0m\n\u001b[0m",
            "\u001b[0;31mKeyboardInterrupt\u001b[0m: "
          ]
        }
      ]
    },
    {
      "cell_type": "code",
      "source": [
        "import pandas as pd\n",
        "\n",
        "df = pd.read_csv(r'ETH_tracker.csv')\n",
        "print(df)"
      ],
      "metadata": {
        "colab": {
          "base_uri": "https://localhost:8080/"
        },
        "id": "vOKpctwuH7CW",
        "outputId": "41e9d71a-ae23-4966-cf01-cdbe363b46d1"
      },
      "execution_count": 64,
      "outputs": [
        {
          "output_type": "stream",
          "name": "stdout",
          "text": [
            "                   Time Ticker     Price  Change\n",
            "0   27/12/2022 15:09:49    ETH  1,209.70    0.63\n",
            "1   27/12/2022 15:11:18    ETH  1,209.70    0.63\n",
            "2   27/12/2022 15:16:19    ETH  1,210.10    0.59\n",
            "3   27/12/2022 15:21:19    ETH  1,211.59    0.46\n",
            "4   27/12/2022 15:26:19    ETH  1,212.68    0.35\n",
            "5   27/12/2022 15:31:19    ETH  1,216.16    0.02\n",
            "6   27/12/2022 15:36:20    ETH  1,216.02    0.02\n",
            "7   27/12/2022 15:41:20    ETH  1,216.04    0.02\n",
            "8   27/12/2022 15:47:21    ETH  1,214.00    0.14\n",
            "9   27/12/2022 15:47:57    ETH  1,214.00    0.14\n",
            "10  27/12/2022 15:52:57    ETH  1,213.68    0.16\n",
            "11  27/12/2022 15:57:58    ETH  1,213.00    0.20\n",
            "12  27/12/2022 16:02:58    ETH  1,212.30    0.31\n",
            "13  27/12/2022 16:07:58    ETH  1,211.98    0.31\n",
            "14  27/12/2022 16:12:59    ETH  1,212.45    0.26\n",
            "15  27/12/2022 16:17:59    ETH  1,212.14    0.29\n",
            "16  27/12/2022 16:22:59    ETH  1,211.75    0.33\n",
            "17  27/12/2022 16:27:59    ETH  1,210.79    0.52\n",
            "18  27/12/2022 16:33:00    ETH  1,211.29    0.50\n",
            "19  27/12/2022 16:38:00    ETH  1,212.50    0.39\n",
            "20  27/12/2022 16:43:01    ETH  1,211.68    0.46\n"
          ]
        }
      ]
    }
  ]
}