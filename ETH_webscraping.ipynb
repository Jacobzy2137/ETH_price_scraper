{
  "nbformat": 4,
  "nbformat_minor": 0,
  "metadata": {
    "colab": {
      "provenance": []
    },
    "kernelspec": {
      "name": "python3",
      "display_name": "Python 3"
    },
    "language_info": {
      "name": "python"
    }
  },
  "cells": [
    {
      "cell_type": "code",
      "execution_count": 1,
      "metadata": {
        "id": "aSn-aWANfwGS"
      },
      "outputs": [],
      "source": [
        "from bs4 import BeautifulSoup\n",
        "import requests\n",
        "import smtplib\n",
        "import time\n",
        "from datetime import datetime"
      ]
    },
    {
      "cell_type": "code",
      "source": [
        "#pulling data\n",
        "\n",
        "URL = 'https://coinmarketcap.com/currencies/ethereum/'\n",
        "headers = {\"User-Agent\": \"Mozilla/5.0 (Windows NT 10.0; Win64; x64) AppleWebKit/537.36 (KHTML, like Gecko) Chrome/108.0.0.0 Safari/537.36\"}\n",
        "page = requests.get(URL, headers=headers)\n",
        "soup = BeautifulSoup(page.content, \"html.parser\")\n",
        "price = soup.find('div', {'class':'priceValue'}).get_text()\n",
        "currency = soup.find('h2', {'class':'sc-aba8b85a-0 gmYubB h1'}).get_text()\n",
        "change = soup.find('span', {'class':'sc-97d6d2ca-0 cYiHal'}).get_text()\n",
        "now = datetime.now()\n",
        "scrape_time = now.strftime(\"%d/%m/%Y %H:%M:%S\")\n",
        "\n",
        "\n",
        "print(price)\n",
        "print(currency)\n",
        "print(change)\n",
        "print(scrape_time)"
      ],
      "metadata": {
        "colab": {
          "base_uri": "https://localhost:8080/"
        },
        "id": "YGE_F-Z6hXUN",
        "outputId": "5b26305b-54aa-4f94-9dd1-b127f619340b"
      },
      "execution_count": 3,
      "outputs": [
        {
          "output_type": "stream",
          "name": "stdout",
          "text": [
            "$1,215.25\n",
            "EthereumETH\n",
            "0.40%\n",
            "02/01/2023 08:59:03\n"
          ]
        }
      ]
    },
    {
      "cell_type": "code",
      "source": [
        "#cleaning data a bit\n",
        "price = price.strip()[1:]\n",
        "currency = currency.strip()[1:]\n",
        "ticker = \"\"\n",
        "for char in currency:\n",
        "  if char.isupper() == True:\n",
        "    ticker += char\n",
        "change = change.rstrip(change[-1])\n",
        "\n",
        "print(ticker)\n",
        "print(price)\n",
        "print(change)\n",
        "print(scrape_time)"
      ],
      "metadata": {
        "colab": {
          "base_uri": "https://localhost:8080/"
        },
        "id": "ETRqTijm9Olp",
        "outputId": "12d2de3d-2e0f-4deb-eded-fad058681a6f"
      },
      "execution_count": 4,
      "outputs": [
        {
          "output_type": "stream",
          "name": "stdout",
          "text": [
            "ETH\n",
            "1,215.25\n",
            "0.40\n",
            "02/01/2023 08:59:03\n"
          ]
        }
      ]
    },
    {
      "cell_type": "code",
      "source": [
        "#creating csv file |run only once| running again will delete data\n",
        "import csv\n",
        "\n",
        "header = ['Time', 'Ticker', 'Price', 'Change']\n",
        "data = [scrape_time, ticker, price, change]\n",
        "\n",
        "with open('ETH_tracker.csv', 'w', newline='', encoding='UTF8') as f:\n",
        "  writer = csv.writer(f)\n",
        "  writer.writerow(header)\n",
        "  writer.writerow(data)\n"
      ],
      "metadata": {
        "id": "ipYAnZC89f_O"
      },
      "execution_count": 5,
      "outputs": []
    },
    {
      "cell_type": "code",
      "source": [
        "import pandas as pd\n",
        "\n",
        "df = pd.read_csv(r'ETH_tracker.csv')\n",
        "print(df)"
      ],
      "metadata": {
        "colab": {
          "base_uri": "https://localhost:8080/"
        },
        "id": "U_iLlLZlDQ_F",
        "outputId": "e0e80c36-4051-4e87-8e77-5637de2710cb"
      },
      "execution_count": 6,
      "outputs": [
        {
          "output_type": "stream",
          "name": "stdout",
          "text": [
            "                  Time Ticker     Price  Change\n",
            "0  02/01/2023 08:59:03    ETH  1,215.25     0.4\n"
          ]
        }
      ]
    },
    {
      "cell_type": "code",
      "source": [
        "def pull_data():\n",
        "  #pulling\n",
        "  URL = 'https://coinmarketcap.com/currencies/ethereum/'\n",
        "  headers = {\"User-Agent\": \"Mozilla/5.0 (Windows NT 10.0; Win64; x64) AppleWebKit/537.36 (KHTML, like Gecko) Chrome/108.0.0.0 Safari/537.36\"}\n",
        "  page = requests.get(URL, headers=headers)\n",
        "  soup = BeautifulSoup(page.content, \"html.parser\")\n",
        "  price = soup.find('div', {'class':'priceValue'}).get_text()\n",
        "  currency = soup.find('h2', {'class':'sc-aba8b85a-0 gmYubB h1'}).get_text()\n",
        "  change = soup.find('span', {'class':'sc-97d6d2ca-0 cYiHal'}).get_text()\n",
        "  from datetime import datetime\n",
        "  now = datetime.now()\n",
        "  scrape_time = now.strftime(\"%d/%m/%Y %H:%M:%S\")\n",
        "\n",
        "  #cleaning  \n",
        "  price = price.strip()[1:]\n",
        "  currency = currency.strip()[1:]\n",
        "  ticker = \"\"\n",
        "  for char in currency:\n",
        "    if char.isupper() == True:\n",
        "      ticker += char\n",
        "  change = change.rstrip(change[-1])\n",
        "\n",
        "  #appending\n",
        "\n",
        "  import csv\n",
        "  header = ['Time', 'Ticker', 'Price', 'Change']\n",
        "  data = [scrape_time, ticker, price, change]\n",
        "\n",
        "  with open('ETH_tracker.csv', 'a+', newline='', encoding='UTF8') as f:\n",
        "    writer = csv.writer(f)\n",
        "    writer.writerow(data)"
      ],
      "metadata": {
        "id": "WjX1z1-tFWI5"
      },
      "execution_count": 9,
      "outputs": []
    },
    {
      "cell_type": "markdown",
      "source": [
        "**Now we pull data to a csv file in this simple loop:**"
      ],
      "metadata": {
        "id": "D6ZewN-nw1G_"
      }
    },
    {
      "cell_type": "code",
      "source": [
        "while(True):\n",
        "  pull_data()\n",
        "  time.sleep(300)"
      ],
      "metadata": {
        "colab": {
          "base_uri": "https://localhost:8080/",
          "height": 200
        },
        "id": "c0Bnx_rtIX47",
        "outputId": "889e3e8d-4421-4171-89cf-fa009f7c11e1"
      },
      "execution_count": 10,
      "outputs": [
        {
          "output_type": "error",
          "ename": "KeyboardInterrupt",
          "evalue": "ignored",
          "traceback": [
            "\u001b[0;31m---------------------------------------------------------------------------\u001b[0m",
            "\u001b[0;31mKeyboardInterrupt\u001b[0m                         Traceback (most recent call last)",
            "\u001b[0;32m<ipython-input-10-9a68b38f7055>\u001b[0m in \u001b[0;36m<module>\u001b[0;34m\u001b[0m\n\u001b[1;32m      1\u001b[0m \u001b[0;32mwhile\u001b[0m\u001b[0;34m(\u001b[0m\u001b[0;32mTrue\u001b[0m\u001b[0;34m)\u001b[0m\u001b[0;34m:\u001b[0m\u001b[0;34m\u001b[0m\u001b[0;34m\u001b[0m\u001b[0m\n\u001b[1;32m      2\u001b[0m   \u001b[0mpull_data\u001b[0m\u001b[0;34m(\u001b[0m\u001b[0;34m)\u001b[0m\u001b[0;34m\u001b[0m\u001b[0;34m\u001b[0m\u001b[0m\n\u001b[0;32m----> 3\u001b[0;31m   \u001b[0mtime\u001b[0m\u001b[0;34m.\u001b[0m\u001b[0msleep\u001b[0m\u001b[0;34m(\u001b[0m\u001b[0;36m300\u001b[0m\u001b[0;34m)\u001b[0m\u001b[0;34m\u001b[0m\u001b[0;34m\u001b[0m\u001b[0m\n\u001b[0m",
            "\u001b[0;31mKeyboardInterrupt\u001b[0m: "
          ]
        }
      ]
    },
    {
      "cell_type": "markdown",
      "source": [
        "**Taking a look at data we got:**"
      ],
      "metadata": {
        "id": "TW_LSTqAxCJm"
      }
    },
    {
      "cell_type": "code",
      "source": [
        "import pandas as pd\n",
        "\n",
        "df = pd.read_csv(r'ETH_tracker.csv')\n",
        "print(df)"
      ],
      "metadata": {
        "colab": {
          "base_uri": "https://localhost:8080/"
        },
        "id": "vOKpctwuH7CW",
        "outputId": "c4d30d24-a9b9-454d-a70e-eacb1018b922"
      },
      "execution_count": 11,
      "outputs": [
        {
          "output_type": "stream",
          "name": "stdout",
          "text": [
            "                  Time Ticker     Price  Change\n",
            "0  02/01/2023 08:59:03    ETH  1,215.25    0.40\n",
            "1  02/01/2023 08:59:50    ETH  1,215.25    0.40\n",
            "2  02/01/2023 09:04:50    ETH  1,215.50    0.44\n",
            "3  02/01/2023 09:09:51    ETH  1,215.57    0.47\n"
          ]
        }
      ]
    }
  ]
}